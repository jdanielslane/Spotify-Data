{
 "cells": [
  {
   "cell_type": "markdown",
   "metadata": {},
   "source": [
    "# Data Mining on Spotify data\n"
   ]
  },
  {
   "cell_type": "markdown",
   "metadata": {},
   "source": [
    "We have some data which contains a sample of anonymized user listening data in Spotify (from the first half of October, 2015). We'd like you to take a look into the data and possibly categorize it in insightful ways. There are two files:"
   ]
  },
  {
   "cell_type": "markdown",
   "metadata": {},
   "source": [
    "end_song_sample.csv:"
   ]
  },
  {
   "cell_type": "markdown",
   "metadata": {},
   "source": [
    "* <strong>ms_played</strong>:         the amount of time the user listened to this track, in milliseconds\n",
    "\n",
    "* <strong>context</strong>:            the UI context the track was played from (e.g. playlist or artist page)\n",
    "\n",
    "* <strong>track_id</strong>:              the random UUID for the track\n",
    "\n",
    "* <strong>product</strong>:                the product status (e.g. free or paid)\n",
    "\n",
    "* <strong>end_timestamp</strong>:                 the Epoch timestamp that marks the end of the listen\n",
    "\n",
    "* <strong>user_id</strong>:                 the anonymous, random UUID of the user\n"
   ]
  },
  {
   "cell_type": "markdown",
   "metadata": {},
   "source": [
    "user_data_sample.csv:"
   ]
  },
  {
   "cell_type": "markdown",
   "metadata": {},
   "source": [
    "* <strong>gender</strong>:               the gender of the user (male or female)\n",
    "\n",
    "* <strong>age_range</strong>:               a bucketed age of the user\n",
    "\n",
    "* <strong>country</strong>:              the country where the user registered\n",
    "\n",
    "* <strong>acct_age_weeks</strong>:                the age of the user's account in weeks as of Oct 14th, 2015\n",
    "\n",
    "* <strong>user_id</strong>:               the anonymous, random UUID of the user"
   ]
  },
  {
   "cell_type": "markdown",
   "metadata": {},
   "source": [
    "There are some remarks about the code and the approach selected to answer the questions which are listed here:"
   ]
  },
  {
   "cell_type": "markdown",
   "metadata": {},
   "source": [
    "* The programming language is Python 2.7\n",
    "\n",
    "* All the packages used including Pandas, numpy and matplotlib are free and accessible for everyone\n",
    "\n",
    "* The data is recorded for about 2 weeks in October 2015\n",
    "\n",
    "* The listening sessions are considered to be days\n",
    "\n",
    "* There is no big difference between male or female listeners\n",
    "\n",
    "* There are some insightful differences in user behaviour per session based on their age group and country tho\n",
    "\n",
    "* the most active users per session are the people who just signed up\n"
   ]
  },
  {
   "cell_type": "markdown",
   "metadata": {},
   "source": [
    "We first import all the modules used in this analysis:"
   ]
  },
  {
   "cell_type": "code",
   "execution_count": 31,
   "metadata": {
    "collapsed": false
   },
   "outputs": [],
   "source": [
    "import pandas as pd\n",
    "import numpy as np\n",
    "import matplotlib.pylab as plt\n",
    "from copy import deepcopy\n",
    "%matplotlib inline\n",
    "plt.style.use('ggplot')"
   ]
  },
  {
   "cell_type": "markdown",
   "metadata": {},
   "source": [
    "Let's load the csv files and take a look at the data:"
   ]
  },
  {
   "cell_type": "code",
   "execution_count": 32,
   "metadata": {
    "collapsed": false
   },
   "outputs": [
    {
     "name": "stdout",
     "output_type": "stream",
     "text": [
      "row, col =  (9565, 5)\n"
     ]
    },
    {
     "data": {
      "text/html": [
       "<div>\n",
       "<table border=\"1\" class=\"dataframe\">\n",
       "  <thead>\n",
       "    <tr style=\"text-align: right;\">\n",
       "      <th></th>\n",
       "      <th>gender</th>\n",
       "      <th>age_range</th>\n",
       "      <th>country</th>\n",
       "      <th>acct_age_weeks</th>\n",
       "      <th>user_id</th>\n",
       "    </tr>\n",
       "  </thead>\n",
       "  <tbody>\n",
       "    <tr>\n",
       "      <th>0</th>\n",
       "      <td>male</td>\n",
       "      <td>25 - 29</td>\n",
       "      <td>FR</td>\n",
       "      <td>329</td>\n",
       "      <td>97f47c9fba714ca68320b8a80e010a1a</td>\n",
       "    </tr>\n",
       "    <tr>\n",
       "      <th>1</th>\n",
       "      <td>female</td>\n",
       "      <td>45 - 54</td>\n",
       "      <td>US</td>\n",
       "      <td>178</td>\n",
       "      <td>d615ca85849d458e9a5d755ec4727e8f</td>\n",
       "    </tr>\n",
       "    <tr>\n",
       "      <th>2</th>\n",
       "      <td>female</td>\n",
       "      <td>18 - 24</td>\n",
       "      <td>DE</td>\n",
       "      <td>68</td>\n",
       "      <td>6c83a5bf63b74f85b106ac7e7e015a1b</td>\n",
       "    </tr>\n",
       "    <tr>\n",
       "      <th>3</th>\n",
       "      <td>female</td>\n",
       "      <td>30 - 34</td>\n",
       "      <td>US</td>\n",
       "      <td>8</td>\n",
       "      <td>530fcedb3f244e6f91ecb326740005eb</td>\n",
       "    </tr>\n",
       "    <tr>\n",
       "      <th>4</th>\n",
       "      <td>female</td>\n",
       "      <td>30 - 34</td>\n",
       "      <td>FR</td>\n",
       "      <td>42</td>\n",
       "      <td>d2ed6a815eda4f61aa346b7936d03ef7</td>\n",
       "    </tr>\n",
       "  </tbody>\n",
       "</table>\n",
       "</div>"
      ],
      "text/plain": [
       "   gender age_range country  acct_age_weeks                           user_id\n",
       "0    male   25 - 29      FR             329  97f47c9fba714ca68320b8a80e010a1a\n",
       "1  female   45 - 54      US             178  d615ca85849d458e9a5d755ec4727e8f\n",
       "2  female   18 - 24      DE              68  6c83a5bf63b74f85b106ac7e7e015a1b\n",
       "3  female   30 - 34      US               8  530fcedb3f244e6f91ecb326740005eb\n",
       "4  female   30 - 34      FR              42  d2ed6a815eda4f61aa346b7936d03ef7"
      ]
     },
     "execution_count": 32,
     "metadata": {},
     "output_type": "execute_result"
    }
   ],
   "source": [
    "users = pd.read_csv(r'C:\\Udemy\\DataScience\\Spotify\\user_data_sample.csv')\n",
    "print \"row, col = \", users.shape\n",
    "users.head()"
   ]
  },
  {
   "cell_type": "code",
   "execution_count": 33,
   "metadata": {
    "collapsed": false
   },
   "outputs": [
    {
     "name": "stdout",
     "output_type": "stream",
     "text": [
      "row, col =  (1342891, 6)\n"
     ]
    },
    {
     "data": {
      "text/html": [
       "<div>\n",
       "<table border=\"1\" class=\"dataframe\">\n",
       "  <thead>\n",
       "    <tr style=\"text-align: right;\">\n",
       "      <th></th>\n",
       "      <th>ms_played</th>\n",
       "      <th>context</th>\n",
       "      <th>track_id</th>\n",
       "      <th>product</th>\n",
       "      <th>end_timestamp</th>\n",
       "      <th>user_id</th>\n",
       "    </tr>\n",
       "  </thead>\n",
       "  <tbody>\n",
       "    <tr>\n",
       "      <th>0</th>\n",
       "      <td>330962</td>\n",
       "      <td>album</td>\n",
       "      <td>2ab4f3b3a6c34fbaba95c2451b65efbd</td>\n",
       "      <td>open</td>\n",
       "      <td>1.444790e+09</td>\n",
       "      <td>a9abbb14c8544898a0e06feb94f8051e</td>\n",
       "    </tr>\n",
       "    <tr>\n",
       "      <th>1</th>\n",
       "      <td>7476</td>\n",
       "      <td>album</td>\n",
       "      <td>0f5f2acbcf244490948ac2e63adade73</td>\n",
       "      <td>open</td>\n",
       "      <td>1.444790e+09</td>\n",
       "      <td>a9abbb14c8544898a0e06feb94f8051e</td>\n",
       "    </tr>\n",
       "    <tr>\n",
       "      <th>2</th>\n",
       "      <td>227280</td>\n",
       "      <td>collection</td>\n",
       "      <td>0f4a2173eb1f4aa9b8693ad7a92fab73</td>\n",
       "      <td>open</td>\n",
       "      <td>1.444797e+09</td>\n",
       "      <td>a9abbb14c8544898a0e06feb94f8051e</td>\n",
       "    </tr>\n",
       "    <tr>\n",
       "      <th>3</th>\n",
       "      <td>325</td>\n",
       "      <td>playlist</td>\n",
       "      <td>affc7467b68e4dfab9d1d7b9ec8d4673</td>\n",
       "      <td>open</td>\n",
       "      <td>1.444796e+09</td>\n",
       "      <td>a9abbb14c8544898a0e06feb94f8051e</td>\n",
       "    </tr>\n",
       "    <tr>\n",
       "      <th>4</th>\n",
       "      <td>204196</td>\n",
       "      <td>collection</td>\n",
       "      <td>427fd37cbfe640a8a78179477c9f33d3</td>\n",
       "      <td>open</td>\n",
       "      <td>1.444799e+09</td>\n",
       "      <td>a9abbb14c8544898a0e06feb94f8051e</td>\n",
       "    </tr>\n",
       "  </tbody>\n",
       "</table>\n",
       "</div>"
      ],
      "text/plain": [
       "   ms_played     context                          track_id product  \\\n",
       "0     330962       album  2ab4f3b3a6c34fbaba95c2451b65efbd    open   \n",
       "1       7476       album  0f5f2acbcf244490948ac2e63adade73    open   \n",
       "2     227280  collection  0f4a2173eb1f4aa9b8693ad7a92fab73    open   \n",
       "3        325    playlist  affc7467b68e4dfab9d1d7b9ec8d4673    open   \n",
       "4     204196  collection  427fd37cbfe640a8a78179477c9f33d3    open   \n",
       "\n",
       "   end_timestamp                           user_id  \n",
       "0   1.444790e+09  a9abbb14c8544898a0e06feb94f8051e  \n",
       "1   1.444790e+09  a9abbb14c8544898a0e06feb94f8051e  \n",
       "2   1.444797e+09  a9abbb14c8544898a0e06feb94f8051e  \n",
       "3   1.444796e+09  a9abbb14c8544898a0e06feb94f8051e  \n",
       "4   1.444799e+09  a9abbb14c8544898a0e06feb94f8051e  "
      ]
     },
     "execution_count": 33,
     "metadata": {},
     "output_type": "execute_result"
    }
   ],
   "source": [
    "songs = pd.read_csv(r'C:\\Udemy\\DataScience\\Spotify\\end_song_sample.csv')\n",
    "print \"row, col = \", songs.shape\n",
    "songs.head()"
   ]
  },
  {
   "cell_type": "markdown",
   "metadata": {},
   "source": [
    "As expected we have a lot more records in the songs data. Each user listened to many songs and the data shows all of the user activity for each song. We can merge user info with songs data and build up data which will be used for processing:"
   ]
  },
  {
   "cell_type": "code",
   "execution_count": 34,
   "metadata": {
    "collapsed": false
   },
   "outputs": [
    {
     "name": "stdout",
     "output_type": "stream",
     "text": [
      "row, col =  (1342891, 10)\n"
     ]
    },
    {
     "data": {
      "text/html": [
       "<div>\n",
       "<table border=\"1\" class=\"dataframe\">\n",
       "  <thead>\n",
       "    <tr style=\"text-align: right;\">\n",
       "      <th></th>\n",
       "      <th>gender</th>\n",
       "      <th>age_range</th>\n",
       "      <th>country</th>\n",
       "      <th>acct_age_weeks</th>\n",
       "      <th>user_id</th>\n",
       "      <th>ms_played</th>\n",
       "      <th>context</th>\n",
       "      <th>track_id</th>\n",
       "      <th>product</th>\n",
       "      <th>end_timestamp</th>\n",
       "    </tr>\n",
       "  </thead>\n",
       "  <tbody>\n",
       "    <tr>\n",
       "      <th>0</th>\n",
       "      <td>male</td>\n",
       "      <td>25 - 29</td>\n",
       "      <td>FR</td>\n",
       "      <td>329</td>\n",
       "      <td>97f47c9fba714ca68320b8a80e010a1a</td>\n",
       "      <td>408000</td>\n",
       "      <td>playlist</td>\n",
       "      <td>f9105d43bf1940caa82802c97b59684f</td>\n",
       "      <td>free</td>\n",
       "      <td>1.443822e+09</td>\n",
       "    </tr>\n",
       "    <tr>\n",
       "      <th>1</th>\n",
       "      <td>male</td>\n",
       "      <td>25 - 29</td>\n",
       "      <td>FR</td>\n",
       "      <td>329</td>\n",
       "      <td>97f47c9fba714ca68320b8a80e010a1a</td>\n",
       "      <td>292429</td>\n",
       "      <td>playlist</td>\n",
       "      <td>558bef60e515435c9c2e64aab10c83a6</td>\n",
       "      <td>free</td>\n",
       "      <td>1.443822e+09</td>\n",
       "    </tr>\n",
       "    <tr>\n",
       "      <th>2</th>\n",
       "      <td>male</td>\n",
       "      <td>25 - 29</td>\n",
       "      <td>FR</td>\n",
       "      <td>329</td>\n",
       "      <td>97f47c9fba714ca68320b8a80e010a1a</td>\n",
       "      <td>359769</td>\n",
       "      <td>playlist</td>\n",
       "      <td>e8b1cd3e2956436a982a97dd76490a8d</td>\n",
       "      <td>free</td>\n",
       "      <td>1.443829e+09</td>\n",
       "    </tr>\n",
       "    <tr>\n",
       "      <th>3</th>\n",
       "      <td>male</td>\n",
       "      <td>25 - 29</td>\n",
       "      <td>FR</td>\n",
       "      <td>329</td>\n",
       "      <td>97f47c9fba714ca68320b8a80e010a1a</td>\n",
       "      <td>329085</td>\n",
       "      <td>playlist</td>\n",
       "      <td>f017dad7ef8e40e682523b75c07ea145</td>\n",
       "      <td>free</td>\n",
       "      <td>1.443816e+09</td>\n",
       "    </tr>\n",
       "    <tr>\n",
       "      <th>4</th>\n",
       "      <td>male</td>\n",
       "      <td>25 - 29</td>\n",
       "      <td>FR</td>\n",
       "      <td>329</td>\n",
       "      <td>97f47c9fba714ca68320b8a80e010a1a</td>\n",
       "      <td>337425</td>\n",
       "      <td>playlist</td>\n",
       "      <td>8d48d9cd55074b529a8cdd63ea90bce1</td>\n",
       "      <td>free</td>\n",
       "      <td>1.443826e+09</td>\n",
       "    </tr>\n",
       "  </tbody>\n",
       "</table>\n",
       "</div>"
      ],
      "text/plain": [
       "  gender age_range country  acct_age_weeks                           user_id  \\\n",
       "0   male   25 - 29      FR             329  97f47c9fba714ca68320b8a80e010a1a   \n",
       "1   male   25 - 29      FR             329  97f47c9fba714ca68320b8a80e010a1a   \n",
       "2   male   25 - 29      FR             329  97f47c9fba714ca68320b8a80e010a1a   \n",
       "3   male   25 - 29      FR             329  97f47c9fba714ca68320b8a80e010a1a   \n",
       "4   male   25 - 29      FR             329  97f47c9fba714ca68320b8a80e010a1a   \n",
       "\n",
       "   ms_played   context                          track_id product  \\\n",
       "0     408000  playlist  f9105d43bf1940caa82802c97b59684f    free   \n",
       "1     292429  playlist  558bef60e515435c9c2e64aab10c83a6    free   \n",
       "2     359769  playlist  e8b1cd3e2956436a982a97dd76490a8d    free   \n",
       "3     329085  playlist  f017dad7ef8e40e682523b75c07ea145    free   \n",
       "4     337425  playlist  8d48d9cd55074b529a8cdd63ea90bce1    free   \n",
       "\n",
       "   end_timestamp  \n",
       "0   1.443822e+09  \n",
       "1   1.443822e+09  \n",
       "2   1.443829e+09  \n",
       "3   1.443816e+09  \n",
       "4   1.443826e+09  "
      ]
     },
     "execution_count": 34,
     "metadata": {},
     "output_type": "execute_result"
    }
   ],
   "source": [
    "data = users.merge(songs)\n",
    "print \"row, col = \", data.shape\n",
    "data.head()"
   ]
  },
  {
   "cell_type": "markdown",
   "metadata": {},
   "source": [
    "To answer the warmup question about male or female activity, we need to group the data based on gender and take a look at the users and the number of tracks they listened to:"
   ]
  },
  {
   "cell_type": "code",
   "execution_count": 35,
   "metadata": {
    "collapsed": false
   },
   "outputs": [
    {
     "data": {
      "text/html": [
       "<div>\n",
       "<table border=\"1\" class=\"dataframe\">\n",
       "  <thead>\n",
       "    <tr>\n",
       "      <th></th>\n",
       "      <th></th>\n",
       "      <th>user_id</th>\n",
       "      <th>track_id</th>\n",
       "    </tr>\n",
       "    <tr>\n",
       "      <th></th>\n",
       "      <th></th>\n",
       "      <th>&lt;lambda&gt;</th>\n",
       "      <th>&lt;lambda&gt;</th>\n",
       "    </tr>\n",
       "    <tr>\n",
       "      <th>age_range</th>\n",
       "      <th>gender</th>\n",
       "      <th></th>\n",
       "      <th></th>\n",
       "    </tr>\n",
       "  </thead>\n",
       "  <tbody>\n",
       "    <tr>\n",
       "      <th rowspan=\"2\" valign=\"top\">0 - 17</th>\n",
       "      <th>female</th>\n",
       "      <td>690</td>\n",
       "      <td>28615</td>\n",
       "    </tr>\n",
       "    <tr>\n",
       "      <th>male</th>\n",
       "      <td>455</td>\n",
       "      <td>22456</td>\n",
       "    </tr>\n",
       "    <tr>\n",
       "      <th rowspan=\"3\" valign=\"top\">18 - 24</th>\n",
       "      <th>female</th>\n",
       "      <td>1533</td>\n",
       "      <td>70818</td>\n",
       "    </tr>\n",
       "    <tr>\n",
       "      <th>male</th>\n",
       "      <td>1574</td>\n",
       "      <td>75542</td>\n",
       "    </tr>\n",
       "    <tr>\n",
       "      <th>unknown</th>\n",
       "      <td>7</td>\n",
       "      <td>134</td>\n",
       "    </tr>\n",
       "    <tr>\n",
       "      <th rowspan=\"3\" valign=\"top\">25 - 29</th>\n",
       "      <th>female</th>\n",
       "      <td>736</td>\n",
       "      <td>42795</td>\n",
       "    </tr>\n",
       "    <tr>\n",
       "      <th>male</th>\n",
       "      <td>914</td>\n",
       "      <td>54684</td>\n",
       "    </tr>\n",
       "    <tr>\n",
       "      <th>unknown</th>\n",
       "      <td>4</td>\n",
       "      <td>101</td>\n",
       "    </tr>\n",
       "    <tr>\n",
       "      <th rowspan=\"3\" valign=\"top\">30 - 34</th>\n",
       "      <th>female</th>\n",
       "      <td>518</td>\n",
       "      <td>30447</td>\n",
       "    </tr>\n",
       "    <tr>\n",
       "      <th>male</th>\n",
       "      <td>598</td>\n",
       "      <td>42009</td>\n",
       "    </tr>\n",
       "    <tr>\n",
       "      <th>unknown</th>\n",
       "      <td>2</td>\n",
       "      <td>108</td>\n",
       "    </tr>\n",
       "    <tr>\n",
       "      <th rowspan=\"3\" valign=\"top\">35 - 44</th>\n",
       "      <th>female</th>\n",
       "      <td>598</td>\n",
       "      <td>30656</td>\n",
       "    </tr>\n",
       "    <tr>\n",
       "      <th>male</th>\n",
       "      <td>734</td>\n",
       "      <td>40349</td>\n",
       "    </tr>\n",
       "    <tr>\n",
       "      <th>unknown</th>\n",
       "      <td>2</td>\n",
       "      <td>240</td>\n",
       "    </tr>\n",
       "    <tr>\n",
       "      <th rowspan=\"3\" valign=\"top\">45 - 54</th>\n",
       "      <th>female</th>\n",
       "      <td>312</td>\n",
       "      <td>16083</td>\n",
       "    </tr>\n",
       "    <tr>\n",
       "      <th>male</th>\n",
       "      <td>402</td>\n",
       "      <td>24698</td>\n",
       "    </tr>\n",
       "    <tr>\n",
       "      <th>unknown</th>\n",
       "      <td>2</td>\n",
       "      <td>79</td>\n",
       "    </tr>\n",
       "    <tr>\n",
       "      <th rowspan=\"3\" valign=\"top\">55+</th>\n",
       "      <th>female</th>\n",
       "      <td>173</td>\n",
       "      <td>8744</td>\n",
       "    </tr>\n",
       "    <tr>\n",
       "      <th>male</th>\n",
       "      <td>301</td>\n",
       "      <td>20661</td>\n",
       "    </tr>\n",
       "    <tr>\n",
       "      <th>unknown</th>\n",
       "      <td>2</td>\n",
       "      <td>317</td>\n",
       "    </tr>\n",
       "  </tbody>\n",
       "</table>\n",
       "</div>"
      ],
      "text/plain": [
       "                   user_id track_id\n",
       "                  <lambda> <lambda>\n",
       "age_range gender                   \n",
       "0 - 17    female       690    28615\n",
       "          male         455    22456\n",
       "18 - 24   female      1533    70818\n",
       "          male        1574    75542\n",
       "          unknown        7      134\n",
       "25 - 29   female       736    42795\n",
       "          male         914    54684\n",
       "          unknown        4      101\n",
       "30 - 34   female       518    30447\n",
       "          male         598    42009\n",
       "          unknown        2      108\n",
       "35 - 44   female       598    30656\n",
       "          male         734    40349\n",
       "          unknown        2      240\n",
       "45 - 54   female       312    16083\n",
       "          male         402    24698\n",
       "          unknown        2       79\n",
       "55+       female       173     8744\n",
       "          male         301    20661\n",
       "          unknown        2      317"
      ]
     },
     "execution_count": 35,
     "metadata": {},
     "output_type": "execute_result"
    }
   ],
   "source": [
    "genders = data.groupby(['age_range', 'gender']).agg({'track_id':[lambda x: len(np.unique(x))], 'user_id':[lambda x: len(np.unique(x))]})\n",
    "genders"
   ]
  },
  {
   "cell_type": "code",
   "execution_count": 6,
   "metadata": {
    "collapsed": false
   },
   "outputs": [
    {
     "data": {
      "text/plain": [
       "<matplotlib.legend.Legend at 0x25b77ac8>"
      ]
     },
     "execution_count": 6,
     "metadata": {},
     "output_type": "execute_result"
    },
    {
     "data": {
      "image/png": "[encoded data removed]",
      "text/plain": [
       "<matplotlib.figure.Figure at 0x1dce6d68>"
      ]
     },
     "metadata": {},
     "output_type": "display_data"
    }
   ],
   "source": [
    "genders['track_per_user'] = genders.track_id/genders.user_id\n",
    "genders = genders.unstack(level=-1, fill_value=0)\n",
    "fig = genders.track_per_user.plot.bar()\n",
    "fig.set_ylabel('track per user')\n",
    "fig.legend(['female', 'male', 'unknown'], loc='best')"
   ]
  },
  {
   "cell_type": "markdown",
   "metadata": {},
   "source": [
    "Male and female listeners are not very differfent in terms of average number of tracks listened per user. But, this data shows older people (55+) who have some gender identity issues listened to more tracks on average compared to male or females in the same category. Later on we will show that people with unknown gender have listened to less ms of music per session actually.   "
   ]
  },
  {
   "cell_type": "code",
   "execution_count": 36,
   "metadata": {
    "collapsed": false
   },
   "outputs": [
    {
     "data": {
      "text/html": [
       "<div>\n",
       "<table border=\"1\" class=\"dataframe\">\n",
       "  <thead>\n",
       "    <tr>\n",
       "      <th></th>\n",
       "      <th colspan=\"5\" halign=\"left\">ms_played</th>\n",
       "    </tr>\n",
       "    <tr>\n",
       "      <th></th>\n",
       "      <th>size</th>\n",
       "      <th>mean</th>\n",
       "      <th>median</th>\n",
       "      <th>std</th>\n",
       "      <th>sum</th>\n",
       "    </tr>\n",
       "    <tr>\n",
       "      <th>gender</th>\n",
       "      <th></th>\n",
       "      <th></th>\n",
       "      <th></th>\n",
       "      <th></th>\n",
       "      <th></th>\n",
       "    </tr>\n",
       "  </thead>\n",
       "  <tbody>\n",
       "    <tr>\n",
       "      <th>female</th>\n",
       "      <td>649178</td>\n",
       "      <td>128347</td>\n",
       "      <td>154087</td>\n",
       "      <td>116796.878631</td>\n",
       "      <td>83320664240</td>\n",
       "    </tr>\n",
       "    <tr>\n",
       "      <th>male</th>\n",
       "      <td>691479</td>\n",
       "      <td>128950</td>\n",
       "      <td>141781</td>\n",
       "      <td>123014.083621</td>\n",
       "      <td>89166774194</td>\n",
       "    </tr>\n",
       "    <tr>\n",
       "      <th>unknown</th>\n",
       "      <td>2234</td>\n",
       "      <td>160558</td>\n",
       "      <td>196755</td>\n",
       "      <td>122230.824521</td>\n",
       "      <td>358687857</td>\n",
       "    </tr>\n",
       "  </tbody>\n",
       "</table>\n",
       "</div>"
      ],
      "text/plain": [
       "        ms_played                                            \n",
       "             size    mean  median            std          sum\n",
       "gender                                                       \n",
       "female     649178  128347  154087  116796.878631  83320664240\n",
       "male       691479  128950  141781  123014.083621  89166774194\n",
       "unknown      2234  160558  196755  122230.824521    358687857"
      ]
     },
     "execution_count": 36,
     "metadata": {},
     "output_type": "execute_result"
    }
   ],
   "source": [
    "played = data.groupby('gender').agg({'ms_played':[np.size, np.mean, np.median, np.std, np.sum]})\n",
    "played"
   ]
  },
  {
   "cell_type": "code",
   "execution_count": 37,
   "metadata": {
    "collapsed": false
   },
   "outputs": [
    {
     "data": {
      "text/plain": [
       "gender\n",
       "female     128347.948082\n",
       "male       128950.805728\n",
       "unknown    160558.575201\n",
       "Name: played_per_user, dtype: float64"
      ]
     },
     "execution_count": 37,
     "metadata": {},
     "output_type": "execute_result"
    }
   ],
   "source": [
    "played['played_per_user'] = played.ms_played['sum']/played.ms_played['size']\n",
    "played['played_per_user']"
   ]
  },
  {
   "cell_type": "code",
   "execution_count": 9,
   "metadata": {
    "collapsed": false
   },
   "outputs": [
    {
     "data": {
      "text/plain": [
       "<matplotlib.text.Text at 0x26ff9d68>"
      ]
     },
     "execution_count": 9,
     "metadata": {},
     "output_type": "execute_result"
    },
    {
     "data": {
      "image/png": "[encoded data removed]",
      "text/plain": [
       "<matplotlib.figure.Figure at 0x1dce6e80>"
      ]
     },
     "metadata": {},
     "output_type": "display_data"
    }
   ],
   "source": [
    "fig = played['played_per_user'].plot.bar()\n",
    "fig.set_ylabel('total ms played per user')"
   ]
  },
  {
   "cell_type": "markdown",
   "metadata": {},
   "source": [
    "This data shows that there is no big difference between male and female listeners in terms of totall ms played either. "
   ]
  },
  {
   "cell_type": "code",
   "execution_count": 10,
   "metadata": {
    "collapsed": false
   },
   "outputs": [
    {
     "data": {
      "text/plain": [
       "<matplotlib.legend.Legend at 0x3c1c358>"
      ]
     },
     "execution_count": 10,
     "metadata": {},
     "output_type": "execute_result"
    },
    {
     "data": {
      "image/png": "[encoded data removed]",
      "text/plain": [
       "<matplotlib.figure.Figure at 0x3c1c710>"
      ]
     },
     "metadata": {},
     "output_type": "display_data"
    }
   ],
   "source": [
    "users_per_country = data.groupby('country').agg({'user_id':[lambda x: len(np.unique(x))]})\n",
    "users_per_country.sort_values([('user_id', '<lambda>')], ascending=False, inplace=True)\n",
    "fig = users_per_country.head(10).plot.bar()\n",
    "fig.set_ylabel('number of users')\n",
    "fig.legend()"
   ]
  },
  {
   "cell_type": "markdown",
   "metadata": {},
   "source": [
    "USA has the most listeners. You guys maybe should work on Asian market also. Not many users from Asia it seems!"
   ]
  },
  {
   "cell_type": "markdown",
   "metadata": {},
   "source": [
    "In this section we will work on listening sessions and analyse some user behaviour per session. The warmup is over here with no proof on gender being a factor in listening to music habits. We first need to convert the provided linux time epoch to a human-readable date time format. Then I will resample it to represent daily activities for all users. "
   ]
  },
  {
   "cell_type": "code",
   "execution_count": 38,
   "metadata": {
    "collapsed": false
   },
   "outputs": [
    {
     "data": {
      "text/html": [
       "<div>\n",
       "<table border=\"1\" class=\"dataframe\">\n",
       "  <thead>\n",
       "    <tr>\n",
       "      <th></th>\n",
       "      <th></th>\n",
       "      <th>ms_played</th>\n",
       "    </tr>\n",
       "    <tr>\n",
       "      <th></th>\n",
       "      <th></th>\n",
       "      <th>sum</th>\n",
       "    </tr>\n",
       "    <tr>\n",
       "      <th>user_id</th>\n",
       "      <th>end_timestamp</th>\n",
       "      <th></th>\n",
       "    </tr>\n",
       "  </thead>\n",
       "  <tbody>\n",
       "    <tr>\n",
       "      <th rowspan=\"2\" valign=\"top\">000eb8799c9344c8853e8a2b57d835ff</th>\n",
       "      <th>2015-10-04</th>\n",
       "      <td>320466</td>\n",
       "    </tr>\n",
       "    <tr>\n",
       "      <th>2015-10-09</th>\n",
       "      <td>17149000</td>\n",
       "    </tr>\n",
       "    <tr>\n",
       "      <th rowspan=\"3\" valign=\"top\">001b9229782940c39f311c3d5fa3bdc9</th>\n",
       "      <th>2015-10-01</th>\n",
       "      <td>1532</td>\n",
       "    </tr>\n",
       "    <tr>\n",
       "      <th>2015-10-02</th>\n",
       "      <td>1532</td>\n",
       "    </tr>\n",
       "    <tr>\n",
       "      <th>2015-10-06</th>\n",
       "      <td>97939</td>\n",
       "    </tr>\n",
       "  </tbody>\n",
       "</table>\n",
       "</div>"
      ],
      "text/plain": [
       "                                               ms_played\n",
       "                                                     sum\n",
       "user_id                          end_timestamp          \n",
       "000eb8799c9344c8853e8a2b57d835ff 2015-10-04       320466\n",
       "                                 2015-10-09     17149000\n",
       "001b9229782940c39f311c3d5fa3bdc9 2015-10-01         1532\n",
       "                                 2015-10-02         1532\n",
       "                                 2015-10-06        97939"
      ]
     },
     "execution_count": 38,
     "metadata": {},
     "output_type": "execute_result"
    }
   ],
   "source": [
    "sessions = deepcopy(data)\n",
    "sessions.index = pd.to_datetime(sessions.pop('end_timestamp'), unit='s')\n",
    "daily_sessions = sessions.groupby(['user_id']).resample('D', convention='end').agg({'ms_played':[np.sum]})\n",
    "daily_sessions.head()"
   ]
  },
  {
   "cell_type": "markdown",
   "metadata": {},
   "source": [
    "Each user might have few days of activity (sessions). But what I want to look at is the average ms played per session for all users. "
   ]
  },
  {
   "cell_type": "code",
   "execution_count": 39,
   "metadata": {
    "collapsed": false
   },
   "outputs": [
    {
     "data": {
      "text/html": [
       "<div>\n",
       "<table border=\"1\" class=\"dataframe\">\n",
       "  <thead>\n",
       "    <tr style=\"text-align: right;\">\n",
       "      <th></th>\n",
       "      <th>user_id</th>\n",
       "      <th>ms_played_per_session</th>\n",
       "    </tr>\n",
       "  </thead>\n",
       "  <tbody>\n",
       "    <tr>\n",
       "      <th>0</th>\n",
       "      <td>000eb8799c9344c8853e8a2b57d835ff</td>\n",
       "      <td>8.734733e+06</td>\n",
       "    </tr>\n",
       "    <tr>\n",
       "      <th>1</th>\n",
       "      <td>001b9229782940c39f311c3d5fa3bdc9</td>\n",
       "      <td>4.406775e+04</td>\n",
       "    </tr>\n",
       "    <tr>\n",
       "      <th>2</th>\n",
       "      <td>001cc057631d49ba81e30919dc12920f</td>\n",
       "      <td>8.111010e+05</td>\n",
       "    </tr>\n",
       "    <tr>\n",
       "      <th>3</th>\n",
       "      <td>001eacb8a417475ca5c66600c6333ebc</td>\n",
       "      <td>1.100194e+06</td>\n",
       "    </tr>\n",
       "    <tr>\n",
       "      <th>4</th>\n",
       "      <td>001fbc268150424e82b2af6a13b300eb</td>\n",
       "      <td>3.941133e+06</td>\n",
       "    </tr>\n",
       "  </tbody>\n",
       "</table>\n",
       "</div>"
      ],
      "text/plain": [
       "                            user_id  ms_played_per_session\n",
       "0  000eb8799c9344c8853e8a2b57d835ff           8.734733e+06\n",
       "1  001b9229782940c39f311c3d5fa3bdc9           4.406775e+04\n",
       "2  001cc057631d49ba81e30919dc12920f           8.111010e+05\n",
       "3  001eacb8a417475ca5c66600c6333ebc           1.100194e+06\n",
       "4  001fbc268150424e82b2af6a13b300eb           3.941133e+06"
      ]
     },
     "execution_count": 39,
     "metadata": {},
     "output_type": "execute_result"
    }
   ],
   "source": [
    "daily_sessions = daily_sessions.reset_index()\n",
    "daily_sessions = daily_sessions.groupby('user_id').mean().reset_index()\n",
    "daily_sessions.columns = [u'user_id', u'ms_played_per_session']\n",
    "daily_sessions.head()"
   ]
  },
  {
   "cell_type": "markdown",
   "metadata": {},
   "source": [
    "Merging that info with user info I get the data I like to play with:"
   ]
  },
  {
   "cell_type": "code",
   "execution_count": 40,
   "metadata": {
    "collapsed": false
   },
   "outputs": [
    {
     "data": {
      "text/html": [
       "<div>\n",
       "<table border=\"1\" class=\"dataframe\">\n",
       "  <thead>\n",
       "    <tr style=\"text-align: right;\">\n",
       "      <th></th>\n",
       "      <th>user_id</th>\n",
       "      <th>ms_played_per_session</th>\n",
       "      <th>gender</th>\n",
       "      <th>age_range</th>\n",
       "      <th>country</th>\n",
       "      <th>acct_age_weeks</th>\n",
       "    </tr>\n",
       "  </thead>\n",
       "  <tbody>\n",
       "    <tr>\n",
       "      <th>0</th>\n",
       "      <td>000eb8799c9344c8853e8a2b57d835ff</td>\n",
       "      <td>8.734733e+06</td>\n",
       "      <td>male</td>\n",
       "      <td>25 - 29</td>\n",
       "      <td>GB</td>\n",
       "      <td>39</td>\n",
       "    </tr>\n",
       "    <tr>\n",
       "      <th>1</th>\n",
       "      <td>001b9229782940c39f311c3d5fa3bdc9</td>\n",
       "      <td>4.406775e+04</td>\n",
       "      <td>female</td>\n",
       "      <td>18 - 24</td>\n",
       "      <td>FR</td>\n",
       "      <td>13</td>\n",
       "    </tr>\n",
       "    <tr>\n",
       "      <th>2</th>\n",
       "      <td>001cc057631d49ba81e30919dc12920f</td>\n",
       "      <td>8.111010e+05</td>\n",
       "      <td>female</td>\n",
       "      <td>18 - 24</td>\n",
       "      <td>US</td>\n",
       "      <td>149</td>\n",
       "    </tr>\n",
       "    <tr>\n",
       "      <th>3</th>\n",
       "      <td>001eacb8a417475ca5c66600c6333ebc</td>\n",
       "      <td>1.100194e+06</td>\n",
       "      <td>female</td>\n",
       "      <td>30 - 34</td>\n",
       "      <td>MX</td>\n",
       "      <td>30</td>\n",
       "    </tr>\n",
       "    <tr>\n",
       "      <th>4</th>\n",
       "      <td>001fbc268150424e82b2af6a13b300eb</td>\n",
       "      <td>3.941133e+06</td>\n",
       "      <td>male</td>\n",
       "      <td>18 - 24</td>\n",
       "      <td>GB</td>\n",
       "      <td>342</td>\n",
       "    </tr>\n",
       "  </tbody>\n",
       "</table>\n",
       "</div>"
      ],
      "text/plain": [
       "                            user_id  ms_played_per_session  gender age_range  \\\n",
       "0  000eb8799c9344c8853e8a2b57d835ff           8.734733e+06    male   25 - 29   \n",
       "1  001b9229782940c39f311c3d5fa3bdc9           4.406775e+04  female   18 - 24   \n",
       "2  001cc057631d49ba81e30919dc12920f           8.111010e+05  female   18 - 24   \n",
       "3  001eacb8a417475ca5c66600c6333ebc           1.100194e+06  female   30 - 34   \n",
       "4  001fbc268150424e82b2af6a13b300eb           3.941133e+06    male   18 - 24   \n",
       "\n",
       "  country  acct_age_weeks  \n",
       "0      GB              39  \n",
       "1      FR              13  \n",
       "2      US             149  \n",
       "3      MX              30  \n",
       "4      GB             342  "
      ]
     },
     "execution_count": 40,
     "metadata": {},
     "output_type": "execute_result"
    }
   ],
   "source": [
    "session_user_info = daily_sessions.merge(users)\n",
    "session_user_info.head()"
   ]
  },
  {
   "cell_type": "markdown",
   "metadata": {},
   "source": [
    "First thing I want to see is the affect of age range on user activity per session. I don't expect older people to be able to keep up with teenagers when it comes to average ms played per session. Let's see:"
   ]
  },
  {
   "cell_type": "code",
   "execution_count": 41,
   "metadata": {
    "collapsed": false
   },
   "outputs": [
    {
     "data": {
      "text/plain": [
       "<matplotlib.text.Text at 0x458f2a58>"
      ]
     },
     "execution_count": 41,
     "metadata": {},
     "output_type": "execute_result"
    },
    {
     "data": {
      "image/png": "[encoded data removed]",
      "text/plain": [
       "<matplotlib.figure.Figure at 0x315134a8>"
      ]
     },
     "metadata": {},
     "output_type": "display_data"
    }
   ],
   "source": [
    "age_range_session = session_user_info.groupby('age_range').agg({'ms_played_per_session':sum}).sort_values('ms_played_per_session', ascending=False)\n",
    "fig = age_range_session.plot.bar()\n",
    "fig.set_ylabel('ms_played_per_session')"
   ]
  },
  {
   "cell_type": "markdown",
   "metadata": {},
   "source": [
    "People from 18-24 are the most active in terms of average session length. "
   ]
  },
  {
   "cell_type": "code",
   "execution_count": 43,
   "metadata": {
    "collapsed": false
   },
   "outputs": [
    {
     "data": {
      "text/plain": [
       "<matplotlib.text.Text at 0x3d097128>"
      ]
     },
     "execution_count": 43,
     "metadata": {},
     "output_type": "execute_result"
    },
    {
     "data": {
      "image/png": "[encoded data removed]",
      "text/plain": [
       "<matplotlib.figure.Figure at 0x1dc80710>"
      ]
     },
     "metadata": {},
     "output_type": "display_data"
    }
   ],
   "source": [
    "country_session = session_user_info.groupby('country').agg({'ms_played_per_session':sum}).sort_values('ms_played_per_session', ascending=False)\n",
    "fig = country_session.head(15).plot.bar()\n",
    "fig.set_ylabel('ms_played_per_session')"
   ]
  },
  {
   "cell_type": "markdown",
   "metadata": {},
   "source": [
    "We showed before that USA has the most number of users. This shows USA has also the most active users which makes sense. Your database on other languages is not as good as English songs. "
   ]
  },
  {
   "cell_type": "code",
   "execution_count": 44,
   "metadata": {
    "collapsed": false
   },
   "outputs": [
    {
     "data": {
      "text/plain": [
       "<matplotlib.text.Text at 0x505ec128>"
      ]
     },
     "execution_count": 44,
     "metadata": {},
     "output_type": "execute_result"
    },
    {
     "data": {
      "image/png": "[encoded data removed]",
      "text/plain": [
       "<matplotlib.figure.Figure at 0x33ea7860>"
      ]
     },
     "metadata": {},
     "output_type": "display_data"
    }
   ],
   "source": [
    "account_session = session_user_info.groupby('acct_age_weeks').agg({'ms_played_per_session':sum}).sort_values('ms_played_per_session', ascending=False)\n",
    "fig = account_session.head(20).plot.bar()\n",
    "fig.set_ylabel('ms_played_per_session')"
   ]
  },
  {
   "cell_type": "markdown",
   "metadata": {},
   "source": [
    "This shows the people who just signed up are the most active which shows that they are in \"discovering\" mode. If you manage to suggest good songs for them you might win their heart!"
   ]
  },
  {
   "cell_type": "code",
   "execution_count": 45,
   "metadata": {
    "collapsed": false
   },
   "outputs": [
    {
     "data": {
      "text/plain": [
       "<matplotlib.axes._subplots.AxesSubplot at 0x5060e278>"
      ]
     },
     "execution_count": 45,
     "metadata": {},
     "output_type": "execute_result"
    },
    {
     "data": {
      "image/png": "[encoded data removed]",
      "text/plain": [
       "<matplotlib.figure.Figure at 0x31504f28>"
      ]
     },
     "metadata": {},
     "output_type": "display_data"
    }
   ],
   "source": [
    "gender_session = session_user_info.groupby('gender').agg({'ms_played_per_session':sum}).sort_values('ms_played_per_session', ascending=False)\n",
    "gender_session.plot.bar()"
   ]
  },
  {
   "cell_type": "markdown",
   "metadata": {},
   "source": [
    "And finally we come back to our favorite topic: gender! This data shows male and female listeners are not very different in terms of average activity per session either! And people with unknown gender identity are much less active compared to males and females despite the fact that some of them (older) listened to many songs. Maybe looking for a song they listened when they were younger. But in either case they are just outliers in our eyes. "
   ]
  }
 ],
 "metadata": {
  "kernelspec": {
   "display_name": "Python 2",
   "language": "python",
   "name": "python2"
  },
  "language_info": {
   "codemirror_mode": {
    "name": "ipython",
    "version": 2
   },
   "file_extension": ".py",
   "mimetype": "text/x-python",
   "name": "python",
   "nbconvert_exporter": "python",
   "pygments_lexer": "ipython2",
   "version": "2.7.11"
  }
 },
 "nbformat": 4,
 "nbformat_minor": 0
}
